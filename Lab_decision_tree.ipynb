{
 "cells": [
  {
   "cell_type": "code",
   "execution_count": 3,
   "metadata": {},
   "outputs": [
    {
     "name": "stderr",
     "output_type": "stream",
     "text": [
      "\n",
      "Bad key \"text.kerning_factor\" on line 4 in\n",
      "C:\\Users\\Lenovo\\anaconda3\\envs\\excondables\\lib\\site-packages\\matplotlib\\mpl-data\\stylelib\\_classic_test_patch.mplstyle.\n",
      "You probably need to get an updated matplotlibrc file from\n",
      "https://github.com/matplotlib/matplotlib/blob/v3.1.2/matplotlibrc.template\n",
      "or from the matplotlib source distribution\n"
     ]
    }
   ],
   "source": [
    "import pandas as pd\n",
    "import matplotlib.pyplot as plt\n",
    "import seaborn as sns\n",
    "%matplotlib inline\n",
    "import numpy as np"
   ]
  },
  {
   "cell_type": "markdown",
   "metadata": {},
   "source": [
    "### Read the data / Review all three datasets "
   ]
  },
  {
   "cell_type": "code",
   "execution_count": 4,
   "metadata": {},
   "outputs": [],
   "source": [
    "# 1) dataset used to build a model that can predict the quality of a batch of cookies\n",
    "cookies = pd.read_csv('/Users/Lenovo/Desktop/cookies.csv')"
   ]
  },
  {
   "cell_type": "code",
   "execution_count": 5,
   "metadata": {
    "scrolled": false
   },
   "outputs": [
    {
     "data": {
      "text/html": [
       "<div>\n",
       "<style scoped>\n",
       "    .dataframe tbody tr th:only-of-type {\n",
       "        vertical-align: middle;\n",
       "    }\n",
       "\n",
       "    .dataframe tbody tr th {\n",
       "        vertical-align: top;\n",
       "    }\n",
       "\n",
       "    .dataframe thead th {\n",
       "        text-align: right;\n",
       "    }\n",
       "</style>\n",
       "<table border=\"1\" class=\"dataframe\">\n",
       "  <thead>\n",
       "    <tr style=\"text-align: right;\">\n",
       "      <th></th>\n",
       "      <th>sugar to flour ratio</th>\n",
       "      <th>sugar index</th>\n",
       "      <th>bake temp</th>\n",
       "      <th>chill time</th>\n",
       "      <th>calories</th>\n",
       "      <th>density</th>\n",
       "      <th>pH</th>\n",
       "      <th>grams baking soda</th>\n",
       "      <th>bake time</th>\n",
       "      <th>quality</th>\n",
       "      <th>butter type</th>\n",
       "      <th>weight</th>\n",
       "      <th>diameter</th>\n",
       "      <th>mixins</th>\n",
       "      <th>crunch factor</th>\n",
       "      <th>aesthetic appeal</th>\n",
       "    </tr>\n",
       "  </thead>\n",
       "  <tbody>\n",
       "    <tr>\n",
       "      <th>0</th>\n",
       "      <td>0.25</td>\n",
       "      <td>9.5</td>\n",
       "      <td>300</td>\n",
       "      <td>15.0</td>\n",
       "      <td>136.0</td>\n",
       "      <td>0.99367</td>\n",
       "      <td>8.10</td>\n",
       "      <td>0.44</td>\n",
       "      <td>12.1</td>\n",
       "      <td>8</td>\n",
       "      <td>melted</td>\n",
       "      <td>15.2</td>\n",
       "      <td>7</td>\n",
       "      <td>raisins</td>\n",
       "      <td>1.30</td>\n",
       "      <td>3</td>\n",
       "    </tr>\n",
       "    <tr>\n",
       "      <th>1</th>\n",
       "      <td>0.23</td>\n",
       "      <td>3.3</td>\n",
       "      <td>520</td>\n",
       "      <td>34.0</td>\n",
       "      <td>113.0</td>\n",
       "      <td>0.99429</td>\n",
       "      <td>8.16</td>\n",
       "      <td>0.48</td>\n",
       "      <td>8.4</td>\n",
       "      <td>7</td>\n",
       "      <td>melted</td>\n",
       "      <td>12.4</td>\n",
       "      <td>7</td>\n",
       "      <td>raisins</td>\n",
       "      <td>1.71</td>\n",
       "      <td>3</td>\n",
       "    </tr>\n",
       "    <tr>\n",
       "      <th>2</th>\n",
       "      <td>0.18</td>\n",
       "      <td>1.9</td>\n",
       "      <td>360</td>\n",
       "      <td>33.0</td>\n",
       "      <td>106.0</td>\n",
       "      <td>0.98746</td>\n",
       "      <td>8.21</td>\n",
       "      <td>0.83</td>\n",
       "      <td>14.0</td>\n",
       "      <td>9</td>\n",
       "      <td>melted</td>\n",
       "      <td>9.4</td>\n",
       "      <td>7</td>\n",
       "      <td>nuts, chocolate</td>\n",
       "      <td>1.78</td>\n",
       "      <td>3</td>\n",
       "    </tr>\n",
       "    <tr>\n",
       "      <th>3</th>\n",
       "      <td>0.18</td>\n",
       "      <td>10.5</td>\n",
       "      <td>490</td>\n",
       "      <td>41.0</td>\n",
       "      <td>124.0</td>\n",
       "      <td>0.99630</td>\n",
       "      <td>8.14</td>\n",
       "      <td>0.35</td>\n",
       "      <td>10.5</td>\n",
       "      <td>7</td>\n",
       "      <td>melted</td>\n",
       "      <td>12.2</td>\n",
       "      <td>7</td>\n",
       "      <td>chocolate</td>\n",
       "      <td>1.59</td>\n",
       "      <td>3</td>\n",
       "    </tr>\n",
       "    <tr>\n",
       "      <th>4</th>\n",
       "      <td>0.24</td>\n",
       "      <td>2.4</td>\n",
       "      <td>770</td>\n",
       "      <td>6.0</td>\n",
       "      <td>33.0</td>\n",
       "      <td>0.99740</td>\n",
       "      <td>8.09</td>\n",
       "      <td>0.57</td>\n",
       "      <td>9.4</td>\n",
       "      <td>5</td>\n",
       "      <td>cubed</td>\n",
       "      <td>19.8</td>\n",
       "      <td>7</td>\n",
       "      <td>nuts, oats, chocolate</td>\n",
       "      <td>1.30</td>\n",
       "      <td>3</td>\n",
       "    </tr>\n",
       "    <tr>\n",
       "      <th>...</th>\n",
       "      <td>...</td>\n",
       "      <td>...</td>\n",
       "      <td>...</td>\n",
       "      <td>...</td>\n",
       "      <td>...</td>\n",
       "      <td>...</td>\n",
       "      <td>...</td>\n",
       "      <td>...</td>\n",
       "      <td>...</td>\n",
       "      <td>...</td>\n",
       "      <td>...</td>\n",
       "      <td>...</td>\n",
       "      <td>...</td>\n",
       "      <td>...</td>\n",
       "      <td>...</td>\n",
       "      <td>...</td>\n",
       "    </tr>\n",
       "    <tr>\n",
       "      <th>5193</th>\n",
       "      <td>0.66</td>\n",
       "      <td>2.0</td>\n",
       "      <td>390</td>\n",
       "      <td>15.0</td>\n",
       "      <td>88.0</td>\n",
       "      <td>0.99357</td>\n",
       "      <td>8.66</td>\n",
       "      <td>0.60</td>\n",
       "      <td>11.5</td>\n",
       "      <td>6</td>\n",
       "      <td>cubed</td>\n",
       "      <td>11.6</td>\n",
       "      <td>7</td>\n",
       "      <td>peanut butter</td>\n",
       "      <td>1.36</td>\n",
       "      <td>3</td>\n",
       "    </tr>\n",
       "    <tr>\n",
       "      <th>5194</th>\n",
       "      <td>0.16</td>\n",
       "      <td>1.5</td>\n",
       "      <td>490</td>\n",
       "      <td>10.0</td>\n",
       "      <td>97.0</td>\n",
       "      <td>0.99170</td>\n",
       "      <td>8.48</td>\n",
       "      <td>0.44</td>\n",
       "      <td>10.7</td>\n",
       "      <td>8</td>\n",
       "      <td>melted</td>\n",
       "      <td>10.0</td>\n",
       "      <td>7</td>\n",
       "      <td>raisins</td>\n",
       "      <td>1.80</td>\n",
       "      <td>3</td>\n",
       "    </tr>\n",
       "    <tr>\n",
       "      <th>5195</th>\n",
       "      <td>0.25</td>\n",
       "      <td>14.3</td>\n",
       "      <td>480</td>\n",
       "      <td>79.0</td>\n",
       "      <td>149.0</td>\n",
       "      <td>0.99750</td>\n",
       "      <td>8.12</td>\n",
       "      <td>0.37</td>\n",
       "      <td>9.7</td>\n",
       "      <td>7</td>\n",
       "      <td>melted</td>\n",
       "      <td>13.4</td>\n",
       "      <td>7</td>\n",
       "      <td>chocolate, oats</td>\n",
       "      <td>1.07</td>\n",
       "      <td>3</td>\n",
       "    </tr>\n",
       "    <tr>\n",
       "      <th>5196</th>\n",
       "      <td>0.33</td>\n",
       "      <td>1.4</td>\n",
       "      <td>560</td>\n",
       "      <td>35.0</td>\n",
       "      <td>136.0</td>\n",
       "      <td>0.99380</td>\n",
       "      <td>8.63</td>\n",
       "      <td>0.78</td>\n",
       "      <td>10.3</td>\n",
       "      <td>8</td>\n",
       "      <td>melted</td>\n",
       "      <td>13.8</td>\n",
       "      <td>7</td>\n",
       "      <td>chocolate</td>\n",
       "      <td>1.77</td>\n",
       "      <td>3</td>\n",
       "    </tr>\n",
       "    <tr>\n",
       "      <th>5197</th>\n",
       "      <td>0.44</td>\n",
       "      <td>1.8</td>\n",
       "      <td>810</td>\n",
       "      <td>28.0</td>\n",
       "      <td>68.0</td>\n",
       "      <td>0.99501</td>\n",
       "      <td>8.36</td>\n",
       "      <td>0.66</td>\n",
       "      <td>11.2</td>\n",
       "      <td>5</td>\n",
       "      <td>cubed</td>\n",
       "      <td>16.0</td>\n",
       "      <td>7</td>\n",
       "      <td>chocolate</td>\n",
       "      <td>1.61</td>\n",
       "      <td>3</td>\n",
       "    </tr>\n",
       "  </tbody>\n",
       "</table>\n",
       "<p>5198 rows × 16 columns</p>\n",
       "</div>"
      ],
      "text/plain": [
       "      sugar to flour ratio  sugar index  bake temp  chill time  calories  \\\n",
       "0                     0.25          9.5        300        15.0     136.0   \n",
       "1                     0.23          3.3        520        34.0     113.0   \n",
       "2                     0.18          1.9        360        33.0     106.0   \n",
       "3                     0.18         10.5        490        41.0     124.0   \n",
       "4                     0.24          2.4        770         6.0      33.0   \n",
       "...                    ...          ...        ...         ...       ...   \n",
       "5193                  0.66          2.0        390        15.0      88.0   \n",
       "5194                  0.16          1.5        490        10.0      97.0   \n",
       "5195                  0.25         14.3        480        79.0     149.0   \n",
       "5196                  0.33          1.4        560        35.0     136.0   \n",
       "5197                  0.44          1.8        810        28.0      68.0   \n",
       "\n",
       "      density    pH  grams baking soda  bake time  quality butter type  \\\n",
       "0     0.99367  8.10               0.44       12.1        8      melted   \n",
       "1     0.99429  8.16               0.48        8.4        7      melted   \n",
       "2     0.98746  8.21               0.83       14.0        9      melted   \n",
       "3     0.99630  8.14               0.35       10.5        7      melted   \n",
       "4     0.99740  8.09               0.57        9.4        5       cubed   \n",
       "...       ...   ...                ...        ...      ...         ...   \n",
       "5193  0.99357  8.66               0.60       11.5        6       cubed   \n",
       "5194  0.99170  8.48               0.44       10.7        8      melted   \n",
       "5195  0.99750  8.12               0.37        9.7        7      melted   \n",
       "5196  0.99380  8.63               0.78       10.3        8      melted   \n",
       "5197  0.99501  8.36               0.66       11.2        5       cubed   \n",
       "\n",
       "      weight  diameter                 mixins  crunch factor  aesthetic appeal  \n",
       "0       15.2         7                raisins           1.30                 3  \n",
       "1       12.4         7                raisins           1.71                 3  \n",
       "2        9.4         7        nuts, chocolate           1.78                 3  \n",
       "3       12.2         7              chocolate           1.59                 3  \n",
       "4       19.8         7  nuts, oats, chocolate           1.30                 3  \n",
       "...      ...       ...                    ...            ...               ...  \n",
       "5193    11.6         7          peanut butter           1.36                 3  \n",
       "5194    10.0         7                raisins           1.80                 3  \n",
       "5195    13.4         7        chocolate, oats           1.07                 3  \n",
       "5196    13.8         7              chocolate           1.77                 3  \n",
       "5197    16.0         7              chocolate           1.61                 3  \n",
       "\n",
       "[5198 rows x 16 columns]"
      ]
     },
     "execution_count": 5,
     "metadata": {},
     "output_type": "execute_result"
    }
   ],
   "source": [
    "cookies"
   ]
  },
  {
   "cell_type": "code",
   "execution_count": 6,
   "metadata": {},
   "outputs": [
    {
     "data": {
      "text/html": [
       "<div>\n",
       "<style scoped>\n",
       "    .dataframe tbody tr th:only-of-type {\n",
       "        vertical-align: middle;\n",
       "    }\n",
       "\n",
       "    .dataframe tbody tr th {\n",
       "        vertical-align: top;\n",
       "    }\n",
       "\n",
       "    .dataframe thead th {\n",
       "        text-align: right;\n",
       "    }\n",
       "</style>\n",
       "<table border=\"1\" class=\"dataframe\">\n",
       "  <thead>\n",
       "    <tr style=\"text-align: right;\">\n",
       "      <th></th>\n",
       "      <th>id</th>\n",
       "      <th>sugar to flour ratio</th>\n",
       "      <th>sugar index</th>\n",
       "      <th>bake temp</th>\n",
       "      <th>chill time</th>\n",
       "      <th>calories</th>\n",
       "      <th>density</th>\n",
       "      <th>pH</th>\n",
       "      <th>grams baking soda</th>\n",
       "      <th>bake time</th>\n",
       "      <th>quality</th>\n",
       "      <th>butter type</th>\n",
       "      <th>weight</th>\n",
       "      <th>diameter</th>\n",
       "      <th>mixins</th>\n",
       "      <th>crunch factor</th>\n",
       "      <th>aesthetic appeal</th>\n",
       "    </tr>\n",
       "  </thead>\n",
       "  <tbody>\n",
       "    <tr>\n",
       "      <th>0</th>\n",
       "      <td>14</td>\n",
       "      <td>0.62</td>\n",
       "      <td>19.25</td>\n",
       "      <td>400.0</td>\n",
       "      <td>41.0</td>\n",
       "      <td>172.0</td>\n",
       "      <td>1.00020</td>\n",
       "      <td>7.98</td>\n",
       "      <td>0.67</td>\n",
       "      <td>9.7</td>\n",
       "      <td>0</td>\n",
       "      <td>melted</td>\n",
       "      <td>16.6</td>\n",
       "      <td>7</td>\n",
       "      <td>nuts, chocolate</td>\n",
       "      <td>1.85</td>\n",
       "      <td>3</td>\n",
       "    </tr>\n",
       "    <tr>\n",
       "      <th>1</th>\n",
       "      <td>26</td>\n",
       "      <td>0.35</td>\n",
       "      <td>1.00</td>\n",
       "      <td>520.0</td>\n",
       "      <td>35.0</td>\n",
       "      <td>146.0</td>\n",
       "      <td>0.99300</td>\n",
       "      <td>8.45</td>\n",
       "      <td>0.44</td>\n",
       "      <td>10.0</td>\n",
       "      <td>0</td>\n",
       "      <td>melted</td>\n",
       "      <td>13.8</td>\n",
       "      <td>7</td>\n",
       "      <td>chocolate</td>\n",
       "      <td>1.43</td>\n",
       "      <td>3</td>\n",
       "    </tr>\n",
       "    <tr>\n",
       "      <th>2</th>\n",
       "      <td>30</td>\n",
       "      <td>0.39</td>\n",
       "      <td>10.40</td>\n",
       "      <td>440.0</td>\n",
       "      <td>20.0</td>\n",
       "      <td>142.0</td>\n",
       "      <td>0.99740</td>\n",
       "      <td>8.20</td>\n",
       "      <td>0.53</td>\n",
       "      <td>10.0</td>\n",
       "      <td>0</td>\n",
       "      <td>melted</td>\n",
       "      <td>17.0</td>\n",
       "      <td>7</td>\n",
       "      <td>chocolate</td>\n",
       "      <td>1.57</td>\n",
       "      <td>3</td>\n",
       "    </tr>\n",
       "    <tr>\n",
       "      <th>3</th>\n",
       "      <td>52</td>\n",
       "      <td>0.33</td>\n",
       "      <td>1.10</td>\n",
       "      <td>570.0</td>\n",
       "      <td>21.0</td>\n",
       "      <td>82.0</td>\n",
       "      <td>0.99100</td>\n",
       "      <td>8.32</td>\n",
       "      <td>0.46</td>\n",
       "      <td>10.9</td>\n",
       "      <td>0</td>\n",
       "      <td>melted</td>\n",
       "      <td>12.4</td>\n",
       "      <td>7</td>\n",
       "      <td>chocolate, oats</td>\n",
       "      <td>1.44</td>\n",
       "      <td>3</td>\n",
       "    </tr>\n",
       "    <tr>\n",
       "      <th>4</th>\n",
       "      <td>100</td>\n",
       "      <td>0.37</td>\n",
       "      <td>13.50</td>\n",
       "      <td>600.0</td>\n",
       "      <td>52.0</td>\n",
       "      <td>192.0</td>\n",
       "      <td>0.99750</td>\n",
       "      <td>8.00</td>\n",
       "      <td>0.44</td>\n",
       "      <td>9.1</td>\n",
       "      <td>0</td>\n",
       "      <td>melted</td>\n",
       "      <td>14.8</td>\n",
       "      <td>7</td>\n",
       "      <td>chocolate</td>\n",
       "      <td>1.51</td>\n",
       "      <td>3</td>\n",
       "    </tr>\n",
       "    <tr>\n",
       "      <th>...</th>\n",
       "      <td>...</td>\n",
       "      <td>...</td>\n",
       "      <td>...</td>\n",
       "      <td>...</td>\n",
       "      <td>...</td>\n",
       "      <td>...</td>\n",
       "      <td>...</td>\n",
       "      <td>...</td>\n",
       "      <td>...</td>\n",
       "      <td>...</td>\n",
       "      <td>...</td>\n",
       "      <td>...</td>\n",
       "      <td>...</td>\n",
       "      <td>...</td>\n",
       "      <td>...</td>\n",
       "      <td>...</td>\n",
       "      <td>...</td>\n",
       "    </tr>\n",
       "    <tr>\n",
       "      <th>774</th>\n",
       "      <td>1442</td>\n",
       "      <td>0.02</td>\n",
       "      <td>1.90</td>\n",
       "      <td>780.0</td>\n",
       "      <td>18.0</td>\n",
       "      <td>30.0</td>\n",
       "      <td>0.99712</td>\n",
       "      <td>8.40</td>\n",
       "      <td>0.75</td>\n",
       "      <td>9.8</td>\n",
       "      <td>0</td>\n",
       "      <td>cubed</td>\n",
       "      <td>13.8</td>\n",
       "      <td>7</td>\n",
       "      <td>nuts, oats, chocolate</td>\n",
       "      <td>1.01</td>\n",
       "      <td>3</td>\n",
       "    </tr>\n",
       "    <tr>\n",
       "      <th>775</th>\n",
       "      <td>1445</td>\n",
       "      <td>0.19</td>\n",
       "      <td>5.20</td>\n",
       "      <td>940.0</td>\n",
       "      <td>19.0</td>\n",
       "      <td>98.0</td>\n",
       "      <td>0.99713</td>\n",
       "      <td>8.16</td>\n",
       "      <td>0.52</td>\n",
       "      <td>9.6</td>\n",
       "      <td>0</td>\n",
       "      <td>cubed</td>\n",
       "      <td>14.8</td>\n",
       "      <td>7</td>\n",
       "      <td>nuts, oats</td>\n",
       "      <td>1.68</td>\n",
       "      <td>3</td>\n",
       "    </tr>\n",
       "    <tr>\n",
       "      <th>776</th>\n",
       "      <td>1461</td>\n",
       "      <td>0.00</td>\n",
       "      <td>2.10</td>\n",
       "      <td>600.0</td>\n",
       "      <td>6.0</td>\n",
       "      <td>13.0</td>\n",
       "      <td>0.99664</td>\n",
       "      <td>8.59</td>\n",
       "      <td>0.61</td>\n",
       "      <td>10.0</td>\n",
       "      <td>0</td>\n",
       "      <td>cubed</td>\n",
       "      <td>12.4</td>\n",
       "      <td>7</td>\n",
       "      <td>nuts, oats</td>\n",
       "      <td>1.38</td>\n",
       "      <td>3</td>\n",
       "    </tr>\n",
       "    <tr>\n",
       "      <th>777</th>\n",
       "      <td>1467</td>\n",
       "      <td>0.08</td>\n",
       "      <td>2.30</td>\n",
       "      <td>670.0</td>\n",
       "      <td>19.0</td>\n",
       "      <td>32.0</td>\n",
       "      <td>0.99648</td>\n",
       "      <td>8.52</td>\n",
       "      <td>0.57</td>\n",
       "      <td>11.0</td>\n",
       "      <td>0</td>\n",
       "      <td>cubed</td>\n",
       "      <td>13.4</td>\n",
       "      <td>7</td>\n",
       "      <td>peanut butter</td>\n",
       "      <td>1.63</td>\n",
       "      <td>3</td>\n",
       "    </tr>\n",
       "    <tr>\n",
       "      <th>778</th>\n",
       "      <td>1474</td>\n",
       "      <td>0.50</td>\n",
       "      <td>13.80</td>\n",
       "      <td>2050.0</td>\n",
       "      <td>48.0</td>\n",
       "      <td>82.0</td>\n",
       "      <td>1.00242</td>\n",
       "      <td>8.16</td>\n",
       "      <td>0.75</td>\n",
       "      <td>8.8</td>\n",
       "      <td>0</td>\n",
       "      <td>cubed</td>\n",
       "      <td>19.8</td>\n",
       "      <td>7</td>\n",
       "      <td>nuts,raisins</td>\n",
       "      <td>1.90</td>\n",
       "      <td>3</td>\n",
       "    </tr>\n",
       "  </tbody>\n",
       "</table>\n",
       "<p>779 rows × 17 columns</p>\n",
       "</div>"
      ],
      "text/plain": [
       "       id  sugar to flour ratio  sugar index  bake temp  chill time  calories  \\\n",
       "0      14                  0.62        19.25      400.0        41.0     172.0   \n",
       "1      26                  0.35         1.00      520.0        35.0     146.0   \n",
       "2      30                  0.39        10.40      440.0        20.0     142.0   \n",
       "3      52                  0.33         1.10      570.0        21.0      82.0   \n",
       "4     100                  0.37        13.50      600.0        52.0     192.0   \n",
       "..    ...                   ...          ...        ...         ...       ...   \n",
       "774  1442                  0.02         1.90      780.0        18.0      30.0   \n",
       "775  1445                  0.19         5.20      940.0        19.0      98.0   \n",
       "776  1461                  0.00         2.10      600.0         6.0      13.0   \n",
       "777  1467                  0.08         2.30      670.0        19.0      32.0   \n",
       "778  1474                  0.50        13.80     2050.0        48.0      82.0   \n",
       "\n",
       "     density    pH  grams baking soda  bake time  quality butter type  weight  \\\n",
       "0    1.00020  7.98               0.67        9.7        0      melted    16.6   \n",
       "1    0.99300  8.45               0.44       10.0        0      melted    13.8   \n",
       "2    0.99740  8.20               0.53       10.0        0      melted    17.0   \n",
       "3    0.99100  8.32               0.46       10.9        0      melted    12.4   \n",
       "4    0.99750  8.00               0.44        9.1        0      melted    14.8   \n",
       "..       ...   ...                ...        ...      ...         ...     ...   \n",
       "774  0.99712  8.40               0.75        9.8        0       cubed    13.8   \n",
       "775  0.99713  8.16               0.52        9.6        0       cubed    14.8   \n",
       "776  0.99664  8.59               0.61       10.0        0       cubed    12.4   \n",
       "777  0.99648  8.52               0.57       11.0        0       cubed    13.4   \n",
       "778  1.00242  8.16               0.75        8.8        0       cubed    19.8   \n",
       "\n",
       "     diameter                 mixins  crunch factor  aesthetic appeal  \n",
       "0           7        nuts, chocolate           1.85                 3  \n",
       "1           7              chocolate           1.43                 3  \n",
       "2           7              chocolate           1.57                 3  \n",
       "3           7        chocolate, oats           1.44                 3  \n",
       "4           7              chocolate           1.51                 3  \n",
       "..        ...                    ...            ...               ...  \n",
       "774         7  nuts, oats, chocolate           1.01                 3  \n",
       "775         7             nuts, oats           1.68                 3  \n",
       "776         7             nuts, oats           1.38                 3  \n",
       "777         7          peanut butter           1.63                 3  \n",
       "778         7           nuts,raisins           1.90                 3  \n",
       "\n",
       "[779 rows x 17 columns]"
      ]
     },
     "execution_count": 6,
     "metadata": {},
     "output_type": "execute_result"
    }
   ],
   "source": [
    "# 2) dataset without the label of cookies quality - this is used to predict the label quality\n",
    "cookies_validate = pd.read_csv('/Users/Lenovo/Desktop/cookies_validate.csv')\n",
    "cookies_validate"
   ]
  },
  {
   "cell_type": "code",
   "execution_count": 7,
   "metadata": {},
   "outputs": [
    {
     "data": {
      "text/html": [
       "<div>\n",
       "<style scoped>\n",
       "    .dataframe tbody tr th:only-of-type {\n",
       "        vertical-align: middle;\n",
       "    }\n",
       "\n",
       "    .dataframe tbody tr th {\n",
       "        vertical-align: top;\n",
       "    }\n",
       "\n",
       "    .dataframe thead th {\n",
       "        text-align: right;\n",
       "    }\n",
       "</style>\n",
       "<table border=\"1\" class=\"dataframe\">\n",
       "  <thead>\n",
       "    <tr style=\"text-align: right;\">\n",
       "      <th></th>\n",
       "      <th>id</th>\n",
       "      <th>sugar to flour ratio</th>\n",
       "      <th>sugar index</th>\n",
       "      <th>bake temp</th>\n",
       "      <th>chill time</th>\n",
       "      <th>calories</th>\n",
       "      <th>density</th>\n",
       "      <th>pH</th>\n",
       "      <th>grams baking soda</th>\n",
       "      <th>bake time</th>\n",
       "      <th>quality</th>\n",
       "      <th>butter type</th>\n",
       "      <th>weight</th>\n",
       "      <th>diameter</th>\n",
       "      <th>mixins</th>\n",
       "      <th>crunch factor</th>\n",
       "      <th>aesthetic appeal</th>\n",
       "    </tr>\n",
       "  </thead>\n",
       "  <tbody>\n",
       "    <tr>\n",
       "      <th>0</th>\n",
       "      <td>14</td>\n",
       "      <td>0.62</td>\n",
       "      <td>19.25</td>\n",
       "      <td>400.0</td>\n",
       "      <td>41.0</td>\n",
       "      <td>172.0</td>\n",
       "      <td>1.00020</td>\n",
       "      <td>7.98</td>\n",
       "      <td>0.67</td>\n",
       "      <td>9.7</td>\n",
       "      <td>7</td>\n",
       "      <td>melted</td>\n",
       "      <td>16.6</td>\n",
       "      <td>7</td>\n",
       "      <td>nuts, chocolate</td>\n",
       "      <td>1.85</td>\n",
       "      <td>3</td>\n",
       "    </tr>\n",
       "    <tr>\n",
       "      <th>1</th>\n",
       "      <td>26</td>\n",
       "      <td>0.35</td>\n",
       "      <td>1.00</td>\n",
       "      <td>520.0</td>\n",
       "      <td>35.0</td>\n",
       "      <td>146.0</td>\n",
       "      <td>0.99300</td>\n",
       "      <td>8.45</td>\n",
       "      <td>0.44</td>\n",
       "      <td>10.0</td>\n",
       "      <td>8</td>\n",
       "      <td>melted</td>\n",
       "      <td>13.8</td>\n",
       "      <td>7</td>\n",
       "      <td>chocolate</td>\n",
       "      <td>1.43</td>\n",
       "      <td>3</td>\n",
       "    </tr>\n",
       "    <tr>\n",
       "      <th>2</th>\n",
       "      <td>30</td>\n",
       "      <td>0.39</td>\n",
       "      <td>10.40</td>\n",
       "      <td>440.0</td>\n",
       "      <td>20.0</td>\n",
       "      <td>142.0</td>\n",
       "      <td>0.99740</td>\n",
       "      <td>8.20</td>\n",
       "      <td>0.53</td>\n",
       "      <td>10.0</td>\n",
       "      <td>8</td>\n",
       "      <td>melted</td>\n",
       "      <td>17.0</td>\n",
       "      <td>7</td>\n",
       "      <td>chocolate</td>\n",
       "      <td>1.57</td>\n",
       "      <td>3</td>\n",
       "    </tr>\n",
       "    <tr>\n",
       "      <th>3</th>\n",
       "      <td>52</td>\n",
       "      <td>0.33</td>\n",
       "      <td>1.10</td>\n",
       "      <td>570.0</td>\n",
       "      <td>21.0</td>\n",
       "      <td>82.0</td>\n",
       "      <td>0.99100</td>\n",
       "      <td>8.32</td>\n",
       "      <td>0.46</td>\n",
       "      <td>10.9</td>\n",
       "      <td>9</td>\n",
       "      <td>melted</td>\n",
       "      <td>12.4</td>\n",
       "      <td>7</td>\n",
       "      <td>chocolate, oats</td>\n",
       "      <td>1.44</td>\n",
       "      <td>3</td>\n",
       "    </tr>\n",
       "    <tr>\n",
       "      <th>4</th>\n",
       "      <td>100</td>\n",
       "      <td>0.37</td>\n",
       "      <td>13.50</td>\n",
       "      <td>600.0</td>\n",
       "      <td>52.0</td>\n",
       "      <td>192.0</td>\n",
       "      <td>0.99750</td>\n",
       "      <td>8.00</td>\n",
       "      <td>0.44</td>\n",
       "      <td>9.1</td>\n",
       "      <td>7</td>\n",
       "      <td>melted</td>\n",
       "      <td>14.8</td>\n",
       "      <td>7</td>\n",
       "      <td>chocolate</td>\n",
       "      <td>1.51</td>\n",
       "      <td>3</td>\n",
       "    </tr>\n",
       "    <tr>\n",
       "      <th>...</th>\n",
       "      <td>...</td>\n",
       "      <td>...</td>\n",
       "      <td>...</td>\n",
       "      <td>...</td>\n",
       "      <td>...</td>\n",
       "      <td>...</td>\n",
       "      <td>...</td>\n",
       "      <td>...</td>\n",
       "      <td>...</td>\n",
       "      <td>...</td>\n",
       "      <td>...</td>\n",
       "      <td>...</td>\n",
       "      <td>...</td>\n",
       "      <td>...</td>\n",
       "      <td>...</td>\n",
       "      <td>...</td>\n",
       "      <td>...</td>\n",
       "    </tr>\n",
       "    <tr>\n",
       "      <th>774</th>\n",
       "      <td>1442</td>\n",
       "      <td>0.02</td>\n",
       "      <td>1.90</td>\n",
       "      <td>780.0</td>\n",
       "      <td>18.0</td>\n",
       "      <td>30.0</td>\n",
       "      <td>0.99712</td>\n",
       "      <td>8.40</td>\n",
       "      <td>0.75</td>\n",
       "      <td>9.8</td>\n",
       "      <td>5</td>\n",
       "      <td>cubed</td>\n",
       "      <td>13.8</td>\n",
       "      <td>7</td>\n",
       "      <td>nuts, oats, chocolate</td>\n",
       "      <td>1.01</td>\n",
       "      <td>3</td>\n",
       "    </tr>\n",
       "    <tr>\n",
       "      <th>775</th>\n",
       "      <td>1445</td>\n",
       "      <td>0.19</td>\n",
       "      <td>5.20</td>\n",
       "      <td>940.0</td>\n",
       "      <td>19.0</td>\n",
       "      <td>98.0</td>\n",
       "      <td>0.99713</td>\n",
       "      <td>8.16</td>\n",
       "      <td>0.52</td>\n",
       "      <td>9.6</td>\n",
       "      <td>6</td>\n",
       "      <td>cubed</td>\n",
       "      <td>14.8</td>\n",
       "      <td>7</td>\n",
       "      <td>nuts, oats</td>\n",
       "      <td>1.68</td>\n",
       "      <td>3</td>\n",
       "    </tr>\n",
       "    <tr>\n",
       "      <th>776</th>\n",
       "      <td>1461</td>\n",
       "      <td>0.00</td>\n",
       "      <td>2.10</td>\n",
       "      <td>600.0</td>\n",
       "      <td>6.0</td>\n",
       "      <td>13.0</td>\n",
       "      <td>0.99664</td>\n",
       "      <td>8.59</td>\n",
       "      <td>0.61</td>\n",
       "      <td>10.0</td>\n",
       "      <td>4</td>\n",
       "      <td>cubed</td>\n",
       "      <td>12.4</td>\n",
       "      <td>7</td>\n",
       "      <td>nuts, oats</td>\n",
       "      <td>1.38</td>\n",
       "      <td>3</td>\n",
       "    </tr>\n",
       "    <tr>\n",
       "      <th>777</th>\n",
       "      <td>1467</td>\n",
       "      <td>0.08</td>\n",
       "      <td>2.30</td>\n",
       "      <td>670.0</td>\n",
       "      <td>19.0</td>\n",
       "      <td>32.0</td>\n",
       "      <td>0.99648</td>\n",
       "      <td>8.52</td>\n",
       "      <td>0.57</td>\n",
       "      <td>11.0</td>\n",
       "      <td>4</td>\n",
       "      <td>cubed</td>\n",
       "      <td>13.4</td>\n",
       "      <td>7</td>\n",
       "      <td>peanut butter</td>\n",
       "      <td>1.63</td>\n",
       "      <td>3</td>\n",
       "    </tr>\n",
       "    <tr>\n",
       "      <th>778</th>\n",
       "      <td>1474</td>\n",
       "      <td>0.50</td>\n",
       "      <td>13.80</td>\n",
       "      <td>2050.0</td>\n",
       "      <td>48.0</td>\n",
       "      <td>82.0</td>\n",
       "      <td>1.00242</td>\n",
       "      <td>8.16</td>\n",
       "      <td>0.75</td>\n",
       "      <td>8.8</td>\n",
       "      <td>5</td>\n",
       "      <td>cubed</td>\n",
       "      <td>19.8</td>\n",
       "      <td>7</td>\n",
       "      <td>nuts,raisins</td>\n",
       "      <td>1.90</td>\n",
       "      <td>3</td>\n",
       "    </tr>\n",
       "  </tbody>\n",
       "</table>\n",
       "<p>779 rows × 17 columns</p>\n",
       "</div>"
      ],
      "text/plain": [
       "       id  sugar to flour ratio  sugar index  bake temp  chill time  calories  \\\n",
       "0      14                  0.62        19.25      400.0        41.0     172.0   \n",
       "1      26                  0.35         1.00      520.0        35.0     146.0   \n",
       "2      30                  0.39        10.40      440.0        20.0     142.0   \n",
       "3      52                  0.33         1.10      570.0        21.0      82.0   \n",
       "4     100                  0.37        13.50      600.0        52.0     192.0   \n",
       "..    ...                   ...          ...        ...         ...       ...   \n",
       "774  1442                  0.02         1.90      780.0        18.0      30.0   \n",
       "775  1445                  0.19         5.20      940.0        19.0      98.0   \n",
       "776  1461                  0.00         2.10      600.0         6.0      13.0   \n",
       "777  1467                  0.08         2.30      670.0        19.0      32.0   \n",
       "778  1474                  0.50        13.80     2050.0        48.0      82.0   \n",
       "\n",
       "     density    pH  grams baking soda  bake time  quality butter type  weight  \\\n",
       "0    1.00020  7.98               0.67        9.7        7      melted    16.6   \n",
       "1    0.99300  8.45               0.44       10.0        8      melted    13.8   \n",
       "2    0.99740  8.20               0.53       10.0        8      melted    17.0   \n",
       "3    0.99100  8.32               0.46       10.9        9      melted    12.4   \n",
       "4    0.99750  8.00               0.44        9.1        7      melted    14.8   \n",
       "..       ...   ...                ...        ...      ...         ...     ...   \n",
       "774  0.99712  8.40               0.75        9.8        5       cubed    13.8   \n",
       "775  0.99713  8.16               0.52        9.6        6       cubed    14.8   \n",
       "776  0.99664  8.59               0.61       10.0        4       cubed    12.4   \n",
       "777  0.99648  8.52               0.57       11.0        4       cubed    13.4   \n",
       "778  1.00242  8.16               0.75        8.8        5       cubed    19.8   \n",
       "\n",
       "     diameter                 mixins  crunch factor  aesthetic appeal  \n",
       "0           7        nuts, chocolate           1.85                 3  \n",
       "1           7              chocolate           1.43                 3  \n",
       "2           7              chocolate           1.57                 3  \n",
       "3           7        chocolate, oats           1.44                 3  \n",
       "4           7              chocolate           1.51                 3  \n",
       "..        ...                    ...            ...               ...  \n",
       "774         7  nuts, oats, chocolate           1.01                 3  \n",
       "775         7             nuts, oats           1.68                 3  \n",
       "776         7             nuts, oats           1.38                 3  \n",
       "777         7          peanut butter           1.63                 3  \n",
       "778         7           nuts,raisins           1.90                 3  \n",
       "\n",
       "[779 rows x 17 columns]"
      ]
     },
     "execution_count": 7,
     "metadata": {},
     "output_type": "execute_result"
    }
   ],
   "source": [
    "# 3) dataset with the real quality label of the validate set. \n",
    "# This data is used to calculate the accuracy of any model run\n",
    "cookies_test = pd.read_csv('/Users/Lenovo/Desktop/cookies_test.csv')\n",
    "cookies_test"
   ]
  },
  {
   "cell_type": "markdown",
   "metadata": {},
   "source": [
    "### Exploratory Data Analysis and Descriptive Statistics"
   ]
  },
  {
   "cell_type": "code",
   "execution_count": 8,
   "metadata": {},
   "outputs": [
    {
     "name": "stdout",
     "output_type": "stream",
     "text": [
      "<class 'pandas.core.frame.DataFrame'>\n",
      "RangeIndex: 5198 entries, 0 to 5197\n",
      "Data columns (total 16 columns):\n",
      " #   Column                Non-Null Count  Dtype  \n",
      "---  ------                --------------  -----  \n",
      " 0   sugar to flour ratio  5198 non-null   float64\n",
      " 1   sugar index           5193 non-null   float64\n",
      " 2   bake temp             5198 non-null   int64  \n",
      " 3   chill time            5198 non-null   float64\n",
      " 4   calories              5198 non-null   float64\n",
      " 5   density               5198 non-null   float64\n",
      " 6   pH                    5198 non-null   float64\n",
      " 7   grams baking soda     5198 non-null   float64\n",
      " 8   bake time             5188 non-null   float64\n",
      " 9   quality               5198 non-null   int64  \n",
      " 10  butter type           5198 non-null   object \n",
      " 11  weight                5198 non-null   float64\n",
      " 12  diameter              5198 non-null   int64  \n",
      " 13  mixins                5196 non-null   object \n",
      " 14  crunch factor         5198 non-null   float64\n",
      " 15  aesthetic appeal      5198 non-null   int64  \n",
      "dtypes: float64(10), int64(4), object(2)\n",
      "memory usage: 649.9+ KB\n"
     ]
    }
   ],
   "source": [
    "cookies.info()"
   ]
  },
  {
   "cell_type": "code",
   "execution_count": 9,
   "metadata": {},
   "outputs": [
    {
     "data": {
      "text/plain": [
       "sugar to flour ratio     0\n",
       "sugar index              5\n",
       "bake temp                0\n",
       "chill time               0\n",
       "calories                 0\n",
       "density                  0\n",
       "pH                       0\n",
       "grams baking soda        0\n",
       "bake time               10\n",
       "quality                  0\n",
       "butter type              0\n",
       "weight                   0\n",
       "diameter                 0\n",
       "mixins                   2\n",
       "crunch factor            0\n",
       "aesthetic appeal         0\n",
       "dtype: int64"
      ]
     },
     "execution_count": 9,
     "metadata": {},
     "output_type": "execute_result"
    }
   ],
   "source": [
    "#checking for summ of null values: \n",
    "#dataset looks pretty clean, only with few null values which can be dropped later.\n",
    "cookies.isnull().sum()"
   ]
  },
  {
   "cell_type": "markdown",
   "metadata": {},
   "source": [
    "## Bake time "
   ]
  },
  {
   "cell_type": "code",
   "execution_count": 10,
   "metadata": {},
   "outputs": [
    {
     "data": {
      "text/plain": [
       "count    5188.000000\n",
       "mean       10.494758\n",
       "std         1.194584\n",
       "min         8.000000\n",
       "25%         9.500000\n",
       "50%        10.300000\n",
       "75%        11.300000\n",
       "max        14.900000\n",
       "Name: bake time, dtype: float64"
      ]
     },
     "execution_count": 10,
     "metadata": {},
     "output_type": "execute_result"
    }
   ],
   "source": [
    "cookies['bake time'].describe() # exploring 'bake time' "
   ]
  },
  {
   "cell_type": "code",
   "execution_count": 11,
   "metadata": {},
   "outputs": [
    {
     "data": {
      "text/plain": [
       "<seaborn.axisgrid.PairGrid at 0x20699019610>"
      ]
     },
     "execution_count": 11,
     "metadata": {},
     "output_type": "execute_result"
    },
    {
     "data": {
      "image/png": "[encoded data removed]",
      "text/plain": [
       "<Figure size 540x540 with 12 Axes>"
      ]
     },
     "metadata": {
      "needs_background": "light"
     },
     "output_type": "display_data"
    }
   ],
   "source": [
    "# comparing 'quality', 'bake time', 'bake temp' with each other, via pairplot \n",
    "# as we can see, longer bake time is, better qualtiy \n",
    "sns.pairplot(cookies[['quality', 'bake time', 'bake temp']])"
   ]
  },
  {
   "cell_type": "code",
   "execution_count": 12,
   "metadata": {},
   "outputs": [
    {
     "data": {
      "image/png": "[encoded data removed]",
      "text/plain": [
       "<Figure size 1152x432 with 2 Axes>"
      ]
     },
     "metadata": {
      "needs_background": "light"
     },
     "output_type": "display_data"
    }
   ],
   "source": [
    "# checking for multicollinearity among variables. \n",
    "plt.figure(figsize=(16, 6))\n",
    "mask = np.triu(np.ones_like(cookies.corr(), dtype=np.bool))\n",
    "heatmap = sns.heatmap(cookies.corr(), mask=mask, vmin=-1, vmax=1, annot=True, cmap='BrBG')"
   ]
  },
  {
   "cell_type": "code",
   "execution_count": 13,
   "metadata": {},
   "outputs": [
    {
     "name": "stdout",
     "output_type": "stream",
     "text": [
      "sugar to flour ratio --> 0.18213460597745224\n",
      "sugar index --> 0.22065352244335387\n",
      "bake temp --> -0.47050370901242416\n",
      "chill time --> 0.36465303504313296\n",
      "calories --> 0.4398363987447588\n",
      "density --> -0.021995308762374956\n",
      "pH --> -0.11472101703648831\n",
      "grams baking soda --> -0.30534038308979605\n",
      "bake time --> 0.3153070710526115\n",
      "quality --> 1.0\n",
      "weight --> -0.3282994017266423\n",
      "diameter --> nan\n",
      "crunch factor --> 0.007262050440050089\n",
      "aesthetic appeal --> 0.00015142266125493597\n"
     ]
    }
   ],
   "source": [
    "# checking for correlation among variables:\n",
    "# calories has the highest score, after the target, but it is not very high, so it could be kept. \n",
    "num_cols = cookies.select_dtypes(include=[\"int64\", \"float64\"]).columns\n",
    "\n",
    "for column in num_cols:\n",
    "    print(column, '-->', cookies['quality'].corr(cookies[column]))"
   ]
  },
  {
   "cell_type": "markdown",
   "metadata": {},
   "source": [
    "## butter"
   ]
  },
  {
   "cell_type": "code",
   "execution_count": 14,
   "metadata": {},
   "outputs": [
    {
     "data": {
      "text/plain": [
       "melted    3920\n",
       "cubed     1278\n",
       "Name: butter type, dtype: int64"
      ]
     },
     "execution_count": 14,
     "metadata": {},
     "output_type": "execute_result"
    }
   ],
   "source": [
    "# checking for different value counts in 'butter type'\n",
    "cookies['butter type'].value_counts()"
   ]
  },
  {
   "cell_type": "markdown",
   "metadata": {},
   "source": [
    "## aesthetic appeal"
   ]
  },
  {
   "cell_type": "code",
   "execution_count": 15,
   "metadata": {},
   "outputs": [
    {
     "data": {
      "text/plain": [
       "3    5195\n",
       "4       3\n",
       "Name: aesthetic appeal, dtype: int64"
      ]
     },
     "execution_count": 15,
     "metadata": {},
     "output_type": "execute_result"
    }
   ],
   "source": [
    "# checking for values in 'aesthetic appeal'\n",
    "# most of valaues to 3, probably out of 4. \n",
    "cookies['aesthetic appeal'].value_counts()"
   ]
  },
  {
   "cell_type": "markdown",
   "metadata": {},
   "source": [
    "Thoughts on aesthetics : \n",
    "    not many values - drop column "
   ]
  },
  {
   "cell_type": "markdown",
   "metadata": {},
   "source": [
    "## weight"
   ]
  },
  {
   "cell_type": "code",
   "execution_count": 16,
   "metadata": {},
   "outputs": [
    {
     "data": {
      "text/plain": [
       "count    5198.000000\n",
       "mean       14.381935\n",
       "std         3.023740\n",
       "min       -99.000000\n",
       "25%        12.800000\n",
       "50%        14.000000\n",
       "75%        15.400000\n",
       "max        31.800000\n",
       "Name: weight, dtype: float64"
      ]
     },
     "execution_count": 16,
     "metadata": {},
     "output_type": "execute_result"
    }
   ],
   "source": [
    "# looking at weight, we can see there is an outlier (min, -99) compared to the rest of parameters \n",
    "cookies['weight'].describe()"
   ]
  },
  {
   "cell_type": "code",
   "execution_count": 17,
   "metadata": {},
   "outputs": [
    {
     "data": {
      "text/plain": [
       "array([ 15.2,  12.4,   9.4,  12.2,  19.8,  13.2,  14.2,  13.8,  12.6,\n",
       "        12.8,  13. ,  14. ,  12. ,  14.6,  15.6,  13.4,  16.8,  14.8,\n",
       "        13.6,  16. ,  11. ,  18.6,  10.6,  18.2,  15.8,  17.2,  14.3,\n",
       "        10.4,  11.8,  11.6,  15.4,  21.6,  20.2,  14.4,  12.3,  23.8,\n",
       "        11.2,  11.4,  15. ,  19.6,  17.4,  16.4,  19.2,  10.8,  18. ,\n",
       "        26. ,  16.6,  16.2,  19. ,  10. ,  21.4,  20.4,  17. ,  31.2,\n",
       "        17.8,  22.6,   9.8,  23. ,  18.8,  26.6,  20.8,  26.4,  10.2,\n",
       "        22.2,  23.4,  18.4,  17.6,  28.4,  24.6,  20.6,  25. ,  24.2,\n",
       "        22.8,  24. ,  23.2,  24.4,  26.8,  22.4,  19.4,  23.6,  27.4,\n",
       "        28. ,  22. ,  21.8,  25.2,  25.8,  20. ,  21.2,  21. , -99. ,\n",
       "        25.6,  31. ,   9. ,  24.8,  25.4,   9.6,   8.8,  30. ,  12.9,\n",
       "         9.2,  31.8,   7.6,   7.8,   8.4,  28.6])"
      ]
     },
     "execution_count": 17,
     "metadata": {},
     "output_type": "execute_result"
    }
   ],
   "source": [
    "# we can see it in detailed, by exploring the values further\n",
    "cookies['weight'].unique()"
   ]
  },
  {
   "cell_type": "markdown",
   "metadata": {},
   "source": [
    "Thoughts on weight : \n",
    "\n",
    "    Remove -99 value"
   ]
  },
  {
   "cell_type": "markdown",
   "metadata": {},
   "source": [
    "## diameter"
   ]
  },
  {
   "cell_type": "code",
   "execution_count": 18,
   "metadata": {},
   "outputs": [
    {
     "data": {
      "text/plain": [
       "array([7], dtype=int64)"
      ]
     },
     "execution_count": 18,
     "metadata": {},
     "output_type": "execute_result"
    }
   ],
   "source": [
    "# checking values of 'diameter'\n",
    "# we can see all cookies have diameter of 7 (cm?)\n",
    "cookies['diameter'].unique()"
   ]
  },
  {
   "cell_type": "markdown",
   "metadata": {},
   "source": [
    "Thoughts on diameter : \n",
    "\n",
    "    All equal to 7 - column can be dropped "
   ]
  },
  {
   "cell_type": "markdown",
   "metadata": {},
   "source": [
    "## bake time"
   ]
  },
  {
   "cell_type": "code",
   "execution_count": 19,
   "metadata": {},
   "outputs": [
    {
     "data": {
      "text/plain": [
       "count    5188.000000\n",
       "mean       10.494758\n",
       "std         1.194584\n",
       "min         8.000000\n",
       "25%         9.500000\n",
       "50%        10.300000\n",
       "75%        11.300000\n",
       "max        14.900000\n",
       "Name: bake time, dtype: float64"
      ]
     },
     "execution_count": 19,
     "metadata": {},
     "output_type": "execute_result"
    }
   ],
   "source": [
    "# checking 'bake time' column \n",
    "cookies['bake time'].describe()"
   ]
  },
  {
   "cell_type": "code",
   "execution_count": 20,
   "metadata": {},
   "outputs": [
    {
     "data": {
      "text/plain": [
       "13       7\n",
       "173      8\n",
       "484     10\n",
       "816      7\n",
       "1562     8\n",
       "1867     7\n",
       "1933     7\n",
       "2215     9\n",
       "2910     6\n",
       "3746    10\n",
       "Name: quality, dtype: int64"
      ]
     },
     "execution_count": 20,
     "metadata": {},
     "output_type": "execute_result"
    }
   ],
   "source": [
    "cookies[cookies['bake time'].isnull()]['quality']"
   ]
  },
  {
   "cell_type": "markdown",
   "metadata": {},
   "source": [
    "Thoughts on Bake time \n",
    "\n",
    "    judging by the spread of nulls across quality bands, any missing values could be replaced by mean or rows dropped "
   ]
  },
  {
   "cell_type": "markdown",
   "metadata": {},
   "source": [
    "## crunch factor"
   ]
  },
  {
   "cell_type": "code",
   "execution_count": 21,
   "metadata": {},
   "outputs": [
    {
     "data": {
      "text/plain": [
       "<matplotlib.axes._subplots.AxesSubplot at 0x2069aae6460>"
      ]
     },
     "execution_count": 21,
     "metadata": {},
     "output_type": "execute_result"
    },
    {
     "data": {
      "image/png": "[encoded data removed]",
      "text/plain": [
       "<Figure size 432x288 with 1 Axes>"
      ]
     },
     "metadata": {
      "needs_background": "light"
     },
     "output_type": "display_data"
    }
   ],
   "source": [
    "# checking 'crunch factor'\n",
    "# seems like a normal distirbution \n",
    "cookies['crunch factor'].plot.hist()"
   ]
  },
  {
   "cell_type": "markdown",
   "metadata": {},
   "source": [
    "## mixins"
   ]
  },
  {
   "cell_type": "code",
   "execution_count": 22,
   "metadata": {},
   "outputs": [
    {
     "name": "stdout",
     "output_type": "stream",
     "text": [
      "<class 'pandas.core.frame.DataFrame'>\n",
      "RangeIndex: 5198 entries, 0 to 5197\n",
      "Data columns (total 16 columns):\n",
      " #   Column                Non-Null Count  Dtype  \n",
      "---  ------                --------------  -----  \n",
      " 0   sugar to flour ratio  5198 non-null   float64\n",
      " 1   sugar index           5193 non-null   float64\n",
      " 2   bake temp             5198 non-null   int64  \n",
      " 3   chill time            5198 non-null   float64\n",
      " 4   calories              5198 non-null   float64\n",
      " 5   density               5198 non-null   float64\n",
      " 6   pH                    5198 non-null   float64\n",
      " 7   grams baking soda     5198 non-null   float64\n",
      " 8   bake time             5188 non-null   float64\n",
      " 9   quality               5198 non-null   int64  \n",
      " 10  butter type           5198 non-null   object \n",
      " 11  weight                5198 non-null   float64\n",
      " 12  diameter              5198 non-null   int64  \n",
      " 13  mixins                5196 non-null   object \n",
      " 14  crunch factor         5198 non-null   float64\n",
      " 15  aesthetic appeal      5198 non-null   int64  \n",
      "dtypes: float64(10), int64(4), object(2)\n",
      "memory usage: 649.9+ KB\n"
     ]
    }
   ],
   "source": [
    "cookies.info()"
   ]
  },
  {
   "cell_type": "code",
   "execution_count": 23,
   "metadata": {},
   "outputs": [
    {
     "data": {
      "text/plain": [
       "0                     raisins\n",
       "1                     raisins\n",
       "2             nuts, chocolate\n",
       "3                   chocolate\n",
       "4       nuts, oats, chocolate\n",
       "                ...          \n",
       "5193            peanut butter\n",
       "5194                  raisins\n",
       "5195          chocolate, oats\n",
       "5196                chocolate\n",
       "5197                chocolate\n",
       "Name: mixins, Length: 5198, dtype: object"
      ]
     },
     "execution_count": 23,
     "metadata": {},
     "output_type": "execute_result"
    }
   ],
   "source": [
    "cookies['mixins']"
   ]
  },
  {
   "cell_type": "code",
   "execution_count": 24,
   "metadata": {},
   "outputs": [
    {
     "data": {
      "text/plain": [
       "array(['raisins', 'nuts, chocolate', 'chocolate', 'nuts, oats, chocolate',\n",
       "       'chocolate, oats', 'raisins, oats', 'nuts,raisins', 'nuts, oats',\n",
       "       'chocolate, peanut butter', 'chocolate, oats, peanut butter',\n",
       "       'peanut butter', nan, 'peanut butter, raisins', 'oats'],\n",
       "      dtype=object)"
      ]
     },
     "execution_count": 24,
     "metadata": {},
     "output_type": "execute_result"
    }
   ],
   "source": [
    "# checking for values in 'mixins'\n",
    "cookies['mixins'].unique()"
   ]
  },
  {
   "cell_type": "code",
   "execution_count": 25,
   "metadata": {},
   "outputs": [
    {
     "data": {
      "text/plain": [
       "13"
      ]
     },
     "execution_count": 25,
     "metadata": {},
     "output_type": "execute_result"
    }
   ],
   "source": [
    "# 13 different (tastes or flavors) for all cookies\n",
    "cookies['mixins'].nunique()"
   ]
  },
  {
   "cell_type": "markdown",
   "metadata": {},
   "source": [
    "### Wrangling the data / making small changes "
   ]
  },
  {
   "cell_type": "code",
   "execution_count": 26,
   "metadata": {},
   "outputs": [],
   "source": [
    "# we can drop \"aesthetic appeal\", \"diameter\" columns since they are not very related to the target\n",
    "cookies.drop(columns=[\"aesthetic appeal\", \"diameter\"], inplace=True)"
   ]
  },
  {
   "cell_type": "code",
   "execution_count": 27,
   "metadata": {},
   "outputs": [],
   "source": [
    "cookies=cookies.dropna(subset=['mixins'])"
   ]
  },
  {
   "cell_type": "code",
   "execution_count": 28,
   "metadata": {},
   "outputs": [],
   "source": [
    "# we need to reset index after column drops, to have an updated index \n",
    "cookies.reset_index(drop=True, inplace=True)"
   ]
  },
  {
   "cell_type": "code",
   "execution_count": 29,
   "metadata": {},
   "outputs": [
    {
     "name": "stderr",
     "output_type": "stream",
     "text": [
      "<ipython-input-29-b1b011725339>:2: SettingWithCopyWarning: \n",
      "A value is trying to be set on a copy of a slice from a DataFrame.\n",
      "Try using .loc[row_indexer,col_indexer] = value instead\n",
      "\n",
      "See the caveats in the documentation: https://pandas.pydata.org/pandas-docs/stable/user_guide/indexing.html#returning-a-view-versus-a-copy\n",
      "  cookies['chocolate'] = 0\n",
      "<ipython-input-29-b1b011725339>:3: SettingWithCopyWarning: \n",
      "A value is trying to be set on a copy of a slice from a DataFrame.\n",
      "Try using .loc[row_indexer,col_indexer] = value instead\n",
      "\n",
      "See the caveats in the documentation: https://pandas.pydata.org/pandas-docs/stable/user_guide/indexing.html#returning-a-view-versus-a-copy\n",
      "  cookies['raisins'] = 0\n",
      "<ipython-input-29-b1b011725339>:4: SettingWithCopyWarning: \n",
      "A value is trying to be set on a copy of a slice from a DataFrame.\n",
      "Try using .loc[row_indexer,col_indexer] = value instead\n",
      "\n",
      "See the caveats in the documentation: https://pandas.pydata.org/pandas-docs/stable/user_guide/indexing.html#returning-a-view-versus-a-copy\n",
      "  cookies['oats'] = 0\n",
      "<ipython-input-29-b1b011725339>:5: SettingWithCopyWarning: \n",
      "A value is trying to be set on a copy of a slice from a DataFrame.\n",
      "Try using .loc[row_indexer,col_indexer] = value instead\n",
      "\n",
      "See the caveats in the documentation: https://pandas.pydata.org/pandas-docs/stable/user_guide/indexing.html#returning-a-view-versus-a-copy\n",
      "  cookies['nuts'] = 0\n",
      "<ipython-input-29-b1b011725339>:6: SettingWithCopyWarning: \n",
      "A value is trying to be set on a copy of a slice from a DataFrame.\n",
      "Try using .loc[row_indexer,col_indexer] = value instead\n",
      "\n",
      "See the caveats in the documentation: https://pandas.pydata.org/pandas-docs/stable/user_guide/indexing.html#returning-a-view-versus-a-copy\n",
      "  cookies['peanut butter'] = 0\n"
     ]
    }
   ],
   "source": [
    "# adding more columns to df, based on mixin values \n",
    "cookies['chocolate'] = 0\n",
    "cookies['raisins'] = 0\n",
    "cookies['oats'] = 0\n",
    "cookies['nuts'] = 0\n",
    "cookies['peanut butter'] = 0"
   ]
  },
  {
   "cell_type": "code",
   "execution_count": 30,
   "metadata": {},
   "outputs": [
    {
     "data": {
      "text/html": [
       "<div>\n",
       "<style scoped>\n",
       "    .dataframe tbody tr th:only-of-type {\n",
       "        vertical-align: middle;\n",
       "    }\n",
       "\n",
       "    .dataframe tbody tr th {\n",
       "        vertical-align: top;\n",
       "    }\n",
       "\n",
       "    .dataframe thead th {\n",
       "        text-align: right;\n",
       "    }\n",
       "</style>\n",
       "<table border=\"1\" class=\"dataframe\">\n",
       "  <thead>\n",
       "    <tr style=\"text-align: right;\">\n",
       "      <th></th>\n",
       "      <th>sugar to flour ratio</th>\n",
       "      <th>sugar index</th>\n",
       "      <th>bake temp</th>\n",
       "      <th>chill time</th>\n",
       "      <th>calories</th>\n",
       "      <th>density</th>\n",
       "      <th>pH</th>\n",
       "      <th>grams baking soda</th>\n",
       "      <th>bake time</th>\n",
       "      <th>quality</th>\n",
       "      <th>butter type</th>\n",
       "      <th>weight</th>\n",
       "      <th>mixins</th>\n",
       "      <th>crunch factor</th>\n",
       "      <th>chocolate</th>\n",
       "      <th>raisins</th>\n",
       "      <th>oats</th>\n",
       "      <th>nuts</th>\n",
       "      <th>peanut butter</th>\n",
       "    </tr>\n",
       "  </thead>\n",
       "  <tbody>\n",
       "    <tr>\n",
       "      <th>0</th>\n",
       "      <td>0.25</td>\n",
       "      <td>9.5</td>\n",
       "      <td>300</td>\n",
       "      <td>15.0</td>\n",
       "      <td>136.0</td>\n",
       "      <td>0.99367</td>\n",
       "      <td>8.10</td>\n",
       "      <td>0.44</td>\n",
       "      <td>12.1</td>\n",
       "      <td>8</td>\n",
       "      <td>melted</td>\n",
       "      <td>15.2</td>\n",
       "      <td>raisins</td>\n",
       "      <td>1.30</td>\n",
       "      <td>0</td>\n",
       "      <td>0</td>\n",
       "      <td>0</td>\n",
       "      <td>0</td>\n",
       "      <td>0</td>\n",
       "    </tr>\n",
       "    <tr>\n",
       "      <th>1</th>\n",
       "      <td>0.23</td>\n",
       "      <td>3.3</td>\n",
       "      <td>520</td>\n",
       "      <td>34.0</td>\n",
       "      <td>113.0</td>\n",
       "      <td>0.99429</td>\n",
       "      <td>8.16</td>\n",
       "      <td>0.48</td>\n",
       "      <td>8.4</td>\n",
       "      <td>7</td>\n",
       "      <td>melted</td>\n",
       "      <td>12.4</td>\n",
       "      <td>raisins</td>\n",
       "      <td>1.71</td>\n",
       "      <td>0</td>\n",
       "      <td>0</td>\n",
       "      <td>0</td>\n",
       "      <td>0</td>\n",
       "      <td>0</td>\n",
       "    </tr>\n",
       "    <tr>\n",
       "      <th>2</th>\n",
       "      <td>0.18</td>\n",
       "      <td>1.9</td>\n",
       "      <td>360</td>\n",
       "      <td>33.0</td>\n",
       "      <td>106.0</td>\n",
       "      <td>0.98746</td>\n",
       "      <td>8.21</td>\n",
       "      <td>0.83</td>\n",
       "      <td>14.0</td>\n",
       "      <td>9</td>\n",
       "      <td>melted</td>\n",
       "      <td>9.4</td>\n",
       "      <td>nuts, chocolate</td>\n",
       "      <td>1.78</td>\n",
       "      <td>0</td>\n",
       "      <td>0</td>\n",
       "      <td>0</td>\n",
       "      <td>0</td>\n",
       "      <td>0</td>\n",
       "    </tr>\n",
       "    <tr>\n",
       "      <th>3</th>\n",
       "      <td>0.18</td>\n",
       "      <td>10.5</td>\n",
       "      <td>490</td>\n",
       "      <td>41.0</td>\n",
       "      <td>124.0</td>\n",
       "      <td>0.99630</td>\n",
       "      <td>8.14</td>\n",
       "      <td>0.35</td>\n",
       "      <td>10.5</td>\n",
       "      <td>7</td>\n",
       "      <td>melted</td>\n",
       "      <td>12.2</td>\n",
       "      <td>chocolate</td>\n",
       "      <td>1.59</td>\n",
       "      <td>0</td>\n",
       "      <td>0</td>\n",
       "      <td>0</td>\n",
       "      <td>0</td>\n",
       "      <td>0</td>\n",
       "    </tr>\n",
       "    <tr>\n",
       "      <th>4</th>\n",
       "      <td>0.24</td>\n",
       "      <td>2.4</td>\n",
       "      <td>770</td>\n",
       "      <td>6.0</td>\n",
       "      <td>33.0</td>\n",
       "      <td>0.99740</td>\n",
       "      <td>8.09</td>\n",
       "      <td>0.57</td>\n",
       "      <td>9.4</td>\n",
       "      <td>5</td>\n",
       "      <td>cubed</td>\n",
       "      <td>19.8</td>\n",
       "      <td>nuts, oats, chocolate</td>\n",
       "      <td>1.30</td>\n",
       "      <td>0</td>\n",
       "      <td>0</td>\n",
       "      <td>0</td>\n",
       "      <td>0</td>\n",
       "      <td>0</td>\n",
       "    </tr>\n",
       "  </tbody>\n",
       "</table>\n",
       "</div>"
      ],
      "text/plain": [
       "   sugar to flour ratio  sugar index  bake temp  chill time  calories  \\\n",
       "0                  0.25          9.5        300        15.0     136.0   \n",
       "1                  0.23          3.3        520        34.0     113.0   \n",
       "2                  0.18          1.9        360        33.0     106.0   \n",
       "3                  0.18         10.5        490        41.0     124.0   \n",
       "4                  0.24          2.4        770         6.0      33.0   \n",
       "\n",
       "   density    pH  grams baking soda  bake time  quality butter type  weight  \\\n",
       "0  0.99367  8.10               0.44       12.1        8      melted    15.2   \n",
       "1  0.99429  8.16               0.48        8.4        7      melted    12.4   \n",
       "2  0.98746  8.21               0.83       14.0        9      melted     9.4   \n",
       "3  0.99630  8.14               0.35       10.5        7      melted    12.2   \n",
       "4  0.99740  8.09               0.57        9.4        5       cubed    19.8   \n",
       "\n",
       "                  mixins  crunch factor  chocolate  raisins  oats  nuts  \\\n",
       "0                raisins           1.30          0        0     0     0   \n",
       "1                raisins           1.71          0        0     0     0   \n",
       "2        nuts, chocolate           1.78          0        0     0     0   \n",
       "3              chocolate           1.59          0        0     0     0   \n",
       "4  nuts, oats, chocolate           1.30          0        0     0     0   \n",
       "\n",
       "   peanut butter  \n",
       "0              0  \n",
       "1              0  \n",
       "2              0  \n",
       "3              0  \n",
       "4              0  "
      ]
     },
     "execution_count": 30,
     "metadata": {},
     "output_type": "execute_result"
    }
   ],
   "source": [
    "# lets see if the new columns are added \n",
    "cookies.head()"
   ]
  },
  {
   "cell_type": "code",
   "execution_count": 31,
   "metadata": {},
   "outputs": [
    {
     "name": "stderr",
     "output_type": "stream",
     "text": [
      "C:\\Users\\Lenovo\\anaconda3\\envs\\excondables\\lib\\site-packages\\pandas\\core\\indexing.py:1720: SettingWithCopyWarning: \n",
      "A value is trying to be set on a copy of a slice from a DataFrame.\n",
      "Try using .loc[row_indexer,col_indexer] = value instead\n",
      "\n",
      "See the caveats in the documentation: https://pandas.pydata.org/pandas-docs/stable/user_guide/indexing.html#returning-a-view-versus-a-copy\n",
      "  self._setitem_single_column(loc, value, pi)\n"
     ]
    }
   ],
   "source": [
    "# 'assining' value to new columns \n",
    "mixins = ['chocolate', 'raisins', 'oats', 'nuts', 'peanut butter']\n",
    "for mix in mixins:\n",
    "    for i in range(len(cookies)):\n",
    "        if mix in [x.strip() for x in cookies.loc[i, 'mixins'].split(',')]:\n",
    "            cookies.loc[i, mix] = 1"
   ]
  },
  {
   "cell_type": "code",
   "execution_count": 32,
   "metadata": {},
   "outputs": [
    {
     "name": "stderr",
     "output_type": "stream",
     "text": [
      "C:\\Users\\Lenovo\\anaconda3\\envs\\excondables\\lib\\site-packages\\pandas\\core\\frame.py:4308: SettingWithCopyWarning: \n",
      "A value is trying to be set on a copy of a slice from a DataFrame\n",
      "\n",
      "See the caveats in the documentation: https://pandas.pydata.org/pandas-docs/stable/user_guide/indexing.html#returning-a-view-versus-a-copy\n",
      "  return super().drop(\n"
     ]
    }
   ],
   "source": [
    "# now we can drop 'mixins' column \n",
    "cookies.drop(columns=[\"mixins\"], inplace=True)"
   ]
  },
  {
   "cell_type": "code",
   "execution_count": 33,
   "metadata": {},
   "outputs": [
    {
     "data": {
      "image/png": "[encoded data removed]",
      "text/plain": [
       "<Figure size 1152x432 with 2 Axes>"
      ]
     },
     "metadata": {
      "needs_background": "light"
     },
     "output_type": "display_data"
    }
   ],
   "source": [
    "# lets check for multicollinearity in the updated df \n",
    "plt.figure(figsize=(16, 6))\n",
    "mask = np.triu(np.ones_like(cookies.corr(), dtype=np.bool))\n",
    "heatmap = sns.heatmap(cookies.corr(), mask=mask, vmin=-1, vmax=1, annot=True, cmap='BrBG')"
   ]
  },
  {
   "cell_type": "markdown",
   "metadata": {},
   "source": [
    "- no high score of vairables which could cause multicollinearity\n"
   ]
  },
  {
   "cell_type": "markdown",
   "metadata": {},
   "source": [
    "### pre processing- drop NANs and deal with non numerical data\n"
   ]
  },
  {
   "cell_type": "code",
   "execution_count": 34,
   "metadata": {},
   "outputs": [
    {
     "data": {
      "text/plain": [
       "sugar to flour ratio    float64\n",
       "sugar index             float64\n",
       "bake temp                 int64\n",
       "chill time              float64\n",
       "calories                float64\n",
       "density                 float64\n",
       "pH                      float64\n",
       "grams baking soda       float64\n",
       "bake time               float64\n",
       "quality                   int64\n",
       "butter type              object\n",
       "weight                  float64\n",
       "crunch factor           float64\n",
       "chocolate                 int64\n",
       "raisins                   int64\n",
       "oats                      int64\n",
       "nuts                      int64\n",
       "peanut butter             int64\n",
       "dtype: object"
      ]
     },
     "execution_count": 34,
     "metadata": {},
     "output_type": "execute_result"
    }
   ],
   "source": [
    "# checking data types \n",
    "cookies.dtypes"
   ]
  },
  {
   "cell_type": "code",
   "execution_count": 35,
   "metadata": {},
   "outputs": [],
   "source": [
    "# all columns are numeric, except 'butter type'. Lets convert it to numeric via getdummies \n",
    "cookies=pd.get_dummies(cookies, columns=['butter type'])"
   ]
  },
  {
   "cell_type": "code",
   "execution_count": 36,
   "metadata": {},
   "outputs": [
    {
     "name": "stdout",
     "output_type": "stream",
     "text": [
      "<class 'pandas.core.frame.DataFrame'>\n",
      "RangeIndex: 5196 entries, 0 to 5195\n",
      "Data columns (total 19 columns):\n",
      " #   Column                Non-Null Count  Dtype  \n",
      "---  ------                --------------  -----  \n",
      " 0   sugar to flour ratio  5196 non-null   float64\n",
      " 1   sugar index           5191 non-null   float64\n",
      " 2   bake temp             5196 non-null   int64  \n",
      " 3   chill time            5196 non-null   float64\n",
      " 4   calories              5196 non-null   float64\n",
      " 5   density               5196 non-null   float64\n",
      " 6   pH                    5196 non-null   float64\n",
      " 7   grams baking soda     5196 non-null   float64\n",
      " 8   bake time             5186 non-null   float64\n",
      " 9   quality               5196 non-null   int64  \n",
      " 10  weight                5196 non-null   float64\n",
      " 11  crunch factor         5196 non-null   float64\n",
      " 12  chocolate             5196 non-null   int64  \n",
      " 13  raisins               5196 non-null   int64  \n",
      " 14  oats                  5196 non-null   int64  \n",
      " 15  nuts                  5196 non-null   int64  \n",
      " 16  peanut butter         5196 non-null   int64  \n",
      " 17  butter type_cubed     5196 non-null   uint8  \n",
      " 18  butter type_melted    5196 non-null   uint8  \n",
      "dtypes: float64(10), int64(7), uint8(2)\n",
      "memory usage: 700.4 KB\n"
     ]
    }
   ],
   "source": [
    "# checking for NAN values\n",
    "cookies.info()"
   ]
  },
  {
   "cell_type": "code",
   "execution_count": 37,
   "metadata": {},
   "outputs": [],
   "source": [
    "# we can see 'sugar index' has few NANs, lets drop them\n",
    "cookies = cookies.dropna(inplace=True)"
   ]
  },
  {
   "cell_type": "code",
   "execution_count": 38,
   "metadata": {},
   "outputs": [
    {
     "ename": "AttributeError",
     "evalue": "'NoneType' object has no attribute 'reset_index'",
     "output_type": "error",
     "traceback": [
      "\u001b[1;31m---------------------------------------------------------------------------\u001b[0m",
      "\u001b[1;31mAttributeError\u001b[0m                            Traceback (most recent call last)",
      "\u001b[1;32m<ipython-input-38-7a679f348751>\u001b[0m in \u001b[0;36m<module>\u001b[1;34m\u001b[0m\n\u001b[0;32m      1\u001b[0m \u001b[1;31m# lets reset the index again\u001b[0m\u001b[1;33m\u001b[0m\u001b[1;33m\u001b[0m\u001b[1;33m\u001b[0m\u001b[0m\n\u001b[1;32m----> 2\u001b[1;33m \u001b[0mcookies\u001b[0m\u001b[1;33m.\u001b[0m\u001b[0mreset_index\u001b[0m\u001b[1;33m(\u001b[0m\u001b[0mdrop\u001b[0m\u001b[1;33m=\u001b[0m\u001b[1;32mTrue\u001b[0m\u001b[1;33m,\u001b[0m \u001b[0minplace\u001b[0m\u001b[1;33m=\u001b[0m\u001b[1;32mTrue\u001b[0m\u001b[1;33m)\u001b[0m\u001b[1;33m\u001b[0m\u001b[1;33m\u001b[0m\u001b[0m\n\u001b[0m",
      "\u001b[1;31mAttributeError\u001b[0m: 'NoneType' object has no attribute 'reset_index'"
     ]
    }
   ],
   "source": [
    "# lets reset the index again\n",
    "cookies.reset_index(drop=True, inplace=True)"
   ]
  },
  {
   "cell_type": "markdown",
   "metadata": {},
   "source": [
    "### Split data into dependent and independent variables "
   ]
  },
  {
   "cell_type": "code",
   "execution_count": null,
   "metadata": {},
   "outputs": [],
   "source": [
    "#  now we can drop target variable ('quality')\n",
    "X= cookies.drop(columns=\"quality\")\n",
    "y=cookies.quality"
   ]
  },
  {
   "cell_type": "markdown",
   "metadata": {},
   "source": [
    "### Preprocessing - scaling "
   ]
  },
  {
   "cell_type": "code",
   "execution_count": null,
   "metadata": {},
   "outputs": [],
   "source": [
    "# import library for pre-processing \n",
    "from sklearn.preprocessing import StandardScaler\n",
    "\n",
    "scaler = StandardScaler()\n",
    "\n",
    "X_scaled = scaler.fit_transform(X)"
   ]
  },
  {
   "cell_type": "markdown",
   "metadata": {},
   "source": [
    "### Train test split"
   ]
  },
  {
   "cell_type": "code",
   "execution_count": null,
   "metadata": {},
   "outputs": [],
   "source": [
    "# divide the data into train and test \n",
    "from sklearn.model_selection import train_test_split\n",
    "\n",
    "X_train, X_test, y_train, y_test = train_test_split( X_scaled, y, test_size=0.1, random_state=40)\n"
   ]
  },
  {
   "cell_type": "markdown",
   "metadata": {},
   "source": [
    "### get model, fit, make predictions  AND evaluate"
   ]
  },
  {
   "cell_type": "code",
   "execution_count": null,
   "metadata": {},
   "outputs": [],
   "source": [
    "# import model \n",
    "from sklearn import linear_model\n",
    "from sklearn.metrics import mean_squared_error, r2_score"
   ]
  },
  {
   "cell_type": "code",
   "execution_count": null,
   "metadata": {},
   "outputs": [],
   "source": [
    "# apply train-test to the model\n",
    "lm = linear_model.LinearRegression()\n",
    "model = lm.fit(X_train,y_train)"
   ]
  },
  {
   "cell_type": "code",
   "execution_count": null,
   "metadata": {},
   "outputs": [],
   "source": [
    "predictions  = lm.predict(X_test)"
   ]
  },
  {
   "cell_type": "code",
   "execution_count": null,
   "metadata": {},
   "outputs": [],
   "source": [
    "predictions"
   ]
  },
  {
   "cell_type": "code",
   "execution_count": null,
   "metadata": {},
   "outputs": [],
   "source": [
    "r2_score(y_test, predictions)"
   ]
  },
  {
   "cell_type": "code",
   "execution_count": null,
   "metadata": {},
   "outputs": [],
   "source": [
    "mse = mean_squared_error(y_test, predictions)\n",
    "print(mse)"
   ]
  },
  {
   "cell_type": "code",
   "execution_count": null,
   "metadata": {},
   "outputs": [],
   "source": [
    "import math \n",
    "rmse = math.sqrt(mse)\n",
    "print(rmse)"
   ]
  },
  {
   "cell_type": "markdown",
   "metadata": {},
   "source": [
    "### Make predictions on the cookies_validate dataset (without labels)"
   ]
  },
  {
   "cell_type": "code",
   "execution_count": null,
   "metadata": {},
   "outputs": [],
   "source": [
    "# get the date \n",
    "cookies_val = pd.read_csv('/Users/Lenovo/Desktop/cookies_validate.csv')"
   ]
  },
  {
   "cell_type": "code",
   "execution_count": null,
   "metadata": {},
   "outputs": [],
   "source": [
    "# check for Nulls/NANs\n",
    "cookies_val.info()"
   ]
  },
  {
   "cell_type": "code",
   "execution_count": null,
   "metadata": {},
   "outputs": [],
   "source": [
    "# drop \"aesthetic appeal\", \"diameter\" columns \n",
    "cookies_val.drop(columns=[\"aesthetic appeal\", \"diameter\"], inplace=True)"
   ]
  },
  {
   "cell_type": "code",
   "execution_count": null,
   "metadata": {},
   "outputs": [],
   "source": [
    "# adding new columns to df \n",
    "cookies_val['chocolate'] = 0\n",
    "cookies_val['raisins'] = 0\n",
    "cookies_val['oats'] = 0\n",
    "cookies_val['nuts'] = 0\n",
    "cookies_val['peanut butter'] = 0"
   ]
  },
  {
   "cell_type": "code",
   "execution_count": null,
   "metadata": {},
   "outputs": [],
   "source": [
    "# assigning mixin values into new columns\n",
    "mixins = ['chocolate', 'raisins', 'oats', 'nuts', 'peanut butter']\n",
    "for mix in mixins:\n",
    "    for i in range(len(cookies_val)):\n",
    "        if mix in [x.strip() for x in cookies_val.loc[i, 'mixins'].split(',')]:\n",
    "            cookies_val.loc[i, mix] = 1\n",
    "            \n",
    "# drop mixins column \n",
    "cookies_val.drop(columns=[\"mixins\"], inplace=True)"
   ]
  },
  {
   "cell_type": "code",
   "execution_count": null,
   "metadata": {},
   "outputs": [],
   "source": [
    "# drop 'id' column\n",
    "cookies_val.drop(columns= 'id', inplace=True)"
   ]
  },
  {
   "cell_type": "code",
   "execution_count": null,
   "metadata": {},
   "outputs": [],
   "source": [
    "# convert data type (from object) to num for 'butter type' column \n",
    "cookies_val=pd.get_dummies(cookies_val, columns=['butter type'])"
   ]
  },
  {
   "cell_type": "code",
   "execution_count": null,
   "metadata": {},
   "outputs": [],
   "source": [
    "# check for NaNs-null values \n",
    "cookies_val.info()"
   ]
  },
  {
   "cell_type": "code",
   "execution_count": null,
   "metadata": {},
   "outputs": [],
   "source": [
    "# drop target variable \n",
    "X_val = cookies_val.drop(columns=\"quality\")"
   ]
  },
  {
   "cell_type": "code",
   "execution_count": null,
   "metadata": {},
   "outputs": [],
   "source": [
    "# Preprocess numeric values\n",
    "X_val_scaled = scaler.fit_transform(X_val)"
   ]
  },
  {
   "cell_type": "code",
   "execution_count": null,
   "metadata": {},
   "outputs": [],
   "source": [
    "predictions_val=lm.predict(X_val_scaled)"
   ]
  },
  {
   "cell_type": "code",
   "execution_count": null,
   "metadata": {},
   "outputs": [],
   "source": [
    "predictions_val"
   ]
  },
  {
   "cell_type": "markdown",
   "metadata": {},
   "source": [
    "### assess predictions against the test data (with labels)"
   ]
  },
  {
   "cell_type": "code",
   "execution_count": null,
   "metadata": {},
   "outputs": [],
   "source": [
    "# get third dataset \n",
    "ookies_test = pd.read_csv('/Users/Lenovo/Desktop/cookies_test.csv')"
   ]
  },
  {
   "cell_type": "code",
   "execution_count": null,
   "metadata": {},
   "outputs": [],
   "source": [
    "y_real = cookies_test[\"quality\"]"
   ]
  },
  {
   "cell_type": "code",
   "execution_count": null,
   "metadata": {},
   "outputs": [],
   "source": [
    "y_real.describe()"
   ]
  },
  {
   "cell_type": "code",
   "execution_count": null,
   "metadata": {},
   "outputs": [],
   "source": [
    "mean_squared_error(y_real, predictions_val, squared = False)"
   ]
  },
  {
   "cell_type": "markdown",
   "metadata": {},
   "source": [
    "### Can we get more accuracy with an ensemble method?"
   ]
  },
  {
   "cell_type": "markdown",
   "metadata": {},
   "source": [
    "#### Task 4 : Add a random forest regressor model to try to get a more accurate score. \n",
    "\n",
    "You can follow https://www.geeksforgeeks.org/random-forest-regression-in-python/\n",
    "or the sklearn_documentation https://scikit-learn.org/stable/search.html?q=random+forest\n",
    "to import the regressor and fit it to your data, before running the cells below which will calculate your new RMSE accuracy score"
   ]
  },
  {
   "cell_type": "code",
   "execution_count": null,
   "metadata": {},
   "outputs": [],
   "source": [
    "# Fitting Random Forest Regression to the dataset\n",
    "# import the regressor\n",
    "from sklearn.ensemble import RandomForestRegressor\n",
    "  \n",
    " # create regressor object\n",
    "regressor = RandomForestRegressor(n_estimators = 100, random_state = 0)\n",
    "  \n",
    "# fit the regressor with x and y data\n",
    "regressor.fit(X.reshape(-1,1), y.reshape(-1,1))"
   ]
  },
  {
   "cell_type": "code",
   "execution_count": null,
   "metadata": {},
   "outputs": [],
   "source": [
    "# test the output by changing values\n",
    "y = regressor.predict(np.array([6.5]).reshape()  \n"
   ]
  },
  {
   "cell_type": "code",
   "execution_count": null,
   "metadata": {},
   "outputs": [],
   "source": [
    "#Task 4 your code: "
   ]
  },
  {
   "cell_type": "code",
   "execution_count": null,
   "metadata": {},
   "outputs": [],
   "source": [
    "#Task 4 your code: "
   ]
  },
  {
   "cell_type": "markdown",
   "metadata": {},
   "source": [
    "### Evaluate random forest accuracy "
   ]
  },
  {
   "cell_type": "markdown",
   "metadata": {},
   "source": [
    "RMSE accuracy Score - depending on what you named your model and predictions this code may need to be adapted\n",
    "\n",
    "ie if your model is called 'new model' and you have created a prediction from this model 'predictions_new' then edit the code block below as: \n",
    "    \n",
    "    mean_squared_error(y_real, predictions_new, squared = False)\n",
    "    "
   ]
  },
  {
   "cell_type": "code",
   "execution_count": null,
   "metadata": {},
   "outputs": [],
   "source": [
    "#EDIT as appropriate to get your RMSE \n",
    "\n",
    "mean_squared_error(y_real, predictions_val, squared = False)"
   ]
  }
 ],
 "metadata": {
  "kernelspec": {
   "display_name": "Python 3",
   "language": "python",
   "name": "python3"
  },
  "language_info": {
   "codemirror_mode": {
    "name": "ipython",
    "version": 3
   },
   "file_extension": ".py",
   "mimetype": "text/x-python",
   "name": "python",
   "nbconvert_exporter": "python",
   "pygments_lexer": "ipython3",
   "version": "3.8.8"
  }
 },
 "nbformat": 4,
 "nbformat_minor": 4
}
